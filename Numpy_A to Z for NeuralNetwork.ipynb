{
 "cells": [
  {
   "cell_type": "markdown",
   "id": "218499d4",
   "metadata": {},
   "source": [
    "# Numpy Tutorial"
   ]
  },
  {
   "cell_type": "code",
   "execution_count": 81,
   "id": "12833b1a",
   "metadata": {},
   "outputs": [],
   "source": [
    "%config Completer.use_jedi = True"
   ]
  },
  {
   "cell_type": "markdown",
   "id": "5706ddd1",
   "metadata": {},
   "source": [
    "### Import Numpy"
   ]
  },
  {
   "cell_type": "code",
   "execution_count": 1,
   "id": "05514824",
   "metadata": {},
   "outputs": [],
   "source": [
    "import numpy as np"
   ]
  },
  {
   "cell_type": "code",
   "execution_count": 2,
   "id": "562193ff",
   "metadata": {},
   "outputs": [],
   "source": [
    "x = np.array([[1, 2, 3],[4, 5, 6],[7, 8, 9]])"
   ]
  },
  {
   "cell_type": "code",
   "execution_count": 30,
   "id": "fb68d143",
   "metadata": {},
   "outputs": [
    {
     "name": "stdout",
     "output_type": "stream",
     "text": [
      "Unique ID    : 140259952615472\n",
      "Size         : 30\n",
      "Dimensions   : 2\n",
      "Shape        : (3, 10)\n",
      "Dtype        : int64\n",
      "Flags        :   C_CONTIGUOUS : True\n",
      "  F_CONTIGUOUS : False\n",
      "  OWNDATA : True\n",
      "  WRITEABLE : True\n",
      "  ALIGNED : True\n",
      "  WRITEBACKIFCOPY : False\n",
      "  UPDATEIFCOPY : False\n",
      "\n",
      "Strides      : (80, 8)\n"
     ]
    }
   ],
   "source": [
    "print(\"Unique ID    :\",id(x))\n",
    "print(\"Size         :\",x.size)\n",
    "print(\"Dimensions   :\",x.ndim)\n",
    "print(\"Shape        :\",x.shape)\n",
    "print(\"Dtype        :\",x.dtype)\n",
    "print(\"Flags        :\",x.flags)\n",
    "print(\"Strides      :\",x.strides)"
   ]
  },
  {
   "cell_type": "markdown",
   "id": "692120ed",
   "metadata": {},
   "source": [
    "## Slicing"
   ]
  },
  {
   "cell_type": "code",
   "execution_count": 9,
   "id": "3800ce5d",
   "metadata": {},
   "outputs": [],
   "source": [
    "x = np.array([range(0,10),range(10,20),range(20,30)])"
   ]
  },
  {
   "cell_type": "code",
   "execution_count": 11,
   "id": "ba086dad",
   "metadata": {},
   "outputs": [
    {
     "data": {
      "text/plain": [
       "array([[ 0,  1,  2,  3,  4,  5,  6,  7,  8,  9],\n",
       "       [10, 11, 12, 13, 14, 15, 16, 17, 18, 19],\n",
       "       [20, 21, 22, 23, 24, 25, 26, 27, 28, 29]])"
      ]
     },
     "execution_count": 11,
     "metadata": {},
     "output_type": "execute_result"
    }
   ],
   "source": [
    "x[:,:]"
   ]
  },
  {
   "cell_type": "markdown",
   "id": "62d4145a",
   "metadata": {},
   "source": [
    "Get the 3rd and 4th elemenet from the second and third row"
   ]
  },
  {
   "cell_type": "code",
   "execution_count": 15,
   "id": "915fa1fc",
   "metadata": {},
   "outputs": [
    {
     "data": {
      "text/plain": [
       "array([[13, 14],\n",
       "       [23, 24]])"
      ]
     },
     "execution_count": 15,
     "metadata": {},
     "output_type": "execute_result"
    }
   ],
   "source": [
    "x[1:,3:5]"
   ]
  },
  {
   "cell_type": "markdown",
   "id": "726eec48",
   "metadata": {},
   "source": [
    "Get the last element from all the rows"
   ]
  },
  {
   "cell_type": "code",
   "execution_count": 21,
   "id": "d42eb7a4",
   "metadata": {},
   "outputs": [
    {
     "data": {
      "text/plain": [
       "array([ 9, 19, 29])"
      ]
     },
     "execution_count": 21,
     "metadata": {},
     "output_type": "execute_result"
    }
   ],
   "source": [
    "x[:,-1]"
   ]
  },
  {
   "cell_type": "code",
   "execution_count": 22,
   "id": "dd8cfd8a",
   "metadata": {},
   "outputs": [
    {
     "data": {
      "text/plain": [
       "array([ 9, 19, 29])"
      ]
     },
     "execution_count": 22,
     "metadata": {},
     "output_type": "execute_result"
    }
   ],
   "source": [
    "x[:,x.shape[1]-1]"
   ]
  },
  {
   "cell_type": "markdown",
   "id": "daaf2dfe",
   "metadata": {},
   "source": [
    "How to get the alternative numbers or skip N step elements "
   ]
  },
  {
   "cell_type": "code",
   "execution_count": 28,
   "id": "a9d675d7",
   "metadata": {},
   "outputs": [
    {
     "data": {
      "text/plain": [
       "array([0, 3, 6, 9])"
      ]
     },
     "execution_count": 28,
     "metadata": {},
     "output_type": "execute_result"
    }
   ],
   "source": [
    "# Just taking 1 row of data for example purpose. I want to skip 2 elements after every selected element\n",
    "x[0][::3]"
   ]
  },
  {
   "cell_type": "markdown",
   "id": "b1ead796",
   "metadata": {},
   "source": [
    "# Copy Variables"
   ]
  },
  {
   "cell_type": "markdown",
   "id": "9765584f",
   "metadata": {},
   "source": [
    "We have two types of copies\n",
    "1. copy()\n",
    "2. deepcopy()"
   ]
  },
  {
   "cell_type": "markdown",
   "id": "588583d6",
   "metadata": {},
   "source": [
    "Every object has a unique identifier and if any two variables having the same id value, then they are referring to the same piece of data in the memory. If one variable value changes, it reflects in the other one."
   ]
  },
  {
   "cell_type": "code",
   "execution_count": 58,
   "id": "6f05d151",
   "metadata": {},
   "outputs": [],
   "source": [
    "a = np.array([1, 2, 3])\n",
    "b = np.array([4, 5, 6])\n",
    "c = np.array([a, b])"
   ]
  },
  {
   "cell_type": "markdown",
   "id": "777a8c53",
   "metadata": {},
   "source": [
    "Every variable has assigned to a differnt id value as follows"
   ]
  },
  {
   "cell_type": "code",
   "execution_count": 59,
   "id": "35aa21d7",
   "metadata": {},
   "outputs": [
    {
     "data": {
      "text/plain": [
       "(140260217973040, 140260217972560, 140260217973808)"
      ]
     },
     "execution_count": 59,
     "metadata": {},
     "output_type": "execute_result"
    }
   ],
   "source": [
    "id(a),id(b),id(c)"
   ]
  },
  {
   "cell_type": "markdown",
   "id": "0410586f",
   "metadata": {},
   "source": [
    "Now,"
   ]
  },
  {
   "cell_type": "code",
   "execution_count": 60,
   "id": "5353ca87",
   "metadata": {},
   "outputs": [],
   "source": [
    "d = c"
   ]
  },
  {
   "cell_type": "markdown",
   "id": "2c68c369",
   "metadata": {},
   "source": [
    "Using normal assignment operatings to copy:"
   ]
  },
  {
   "cell_type": "code",
   "execution_count": 61,
   "id": "1d8d9f02",
   "metadata": {},
   "outputs": [
    {
     "name": "stdout",
     "output_type": "stream",
     "text": [
      "True\n",
      "True\n"
     ]
    }
   ],
   "source": [
    "print(id(c) == id(d))          # True - d is the same object as c\n",
    "print(id(c[0]) == id(d[0]))    # True - d[0] is the same object as c[0]"
   ]
  },
  {
   "cell_type": "markdown",
   "id": "fbf6dbc0",
   "metadata": {},
   "source": [
    "Using a shallow copy:"
   ]
  },
  {
   "cell_type": "code",
   "execution_count": 62,
   "id": "f56570d8",
   "metadata": {},
   "outputs": [
    {
     "name": "stdout",
     "output_type": "stream",
     "text": [
      "False\n",
      "True\n"
     ]
    }
   ],
   "source": [
    "d = c.copy()                   # can also use __copy__()\n",
    "\n",
    "print(id(c) == id(d))          # False - d is now a new object\n",
    "print(id(c[0]) == id(d[0]))    # True - d[0] is the same object as c[0]"
   ]
  },
  {
   "cell_type": "markdown",
   "id": "f62ceba1",
   "metadata": {},
   "source": [
    "Using a deep copy:"
   ]
  },
  {
   "cell_type": "code",
   "execution_count": 66,
   "id": "31ad61b6",
   "metadata": {},
   "outputs": [
    {
     "name": "stdout",
     "output_type": "stream",
     "text": [
      "False\n",
      "True\n"
     ]
    }
   ],
   "source": [
    "import copy                   # Use copy package\n",
    "\n",
    "d = copy.deepcopy(c)\n",
    "\n",
    "print(id(c) == id(d))          # False - d is now a new object\n",
    "print(id(c[0]) == id(d[0]))    # False - d[0] is now a new object"
   ]
  },
  {
   "cell_type": "markdown",
   "id": "95154277",
   "metadata": {},
   "source": [
    "##### Note: Above example is correct but somehow, deepcopy is not working as expected. "
   ]
  },
  {
   "cell_type": "markdown",
   "id": "cdd41e61",
   "metadata": {},
   "source": [
    "## Mathematical Operations"
   ]
  },
  {
   "cell_type": "code",
   "execution_count": 72,
   "id": "00c0ef4a",
   "metadata": {},
   "outputs": [
    {
     "data": {
      "text/plain": [
       "array([[ 0,  1,  2,  3,  4,  5,  6,  7,  8,  9],\n",
       "       [10, 11, 12, 13, 14, 15, 16, 17, 18, 19],\n",
       "       [20, 21, 22, 23, 24, 25, 26, 27, 28, 29],\n",
       "       [30, 31, 32, 33, 34, 35, 36, 37, 38, 39]])"
      ]
     },
     "execution_count": 72,
     "metadata": {},
     "output_type": "execute_result"
    }
   ],
   "source": [
    "x = np.array([range(0,10),range(10,20),range(20,30),range(30,40)])\n",
    "x"
   ]
  },
  {
   "cell_type": "code",
   "execution_count": 73,
   "id": "71959532",
   "metadata": {},
   "outputs": [
    {
     "data": {
      "text/plain": [
       "((4, 10), 40)"
      ]
     },
     "execution_count": 73,
     "metadata": {},
     "output_type": "execute_result"
    }
   ],
   "source": [
    "x.shape,x.size"
   ]
  },
  {
   "cell_type": "code",
   "execution_count": 77,
   "id": "a6a0d760",
   "metadata": {},
   "outputs": [
    {
     "data": {
      "text/plain": [
       "780"
      ]
     },
     "execution_count": 77,
     "metadata": {},
     "output_type": "execute_result"
    }
   ],
   "source": [
    "np.sum(x)               # Sum all the elements"
   ]
  },
  {
   "cell_type": "code",
   "execution_count": 78,
   "id": "f58e9a8d",
   "metadata": {},
   "outputs": [
    {
     "data": {
      "text/plain": [
       "array([60, 64, 68, 72, 76, 80, 84, 88, 92, 96])"
      ]
     },
     "execution_count": 78,
     "metadata": {},
     "output_type": "execute_result"
    }
   ],
   "source": [
    "np.sum(x,axis=0)        # Sum elements column wise"
   ]
  },
  {
   "cell_type": "code",
   "execution_count": 79,
   "id": "50939ff0",
   "metadata": {},
   "outputs": [
    {
     "data": {
      "text/plain": [
       "array([ 45, 145, 245, 345])"
      ]
     },
     "execution_count": 79,
     "metadata": {},
     "output_type": "execute_result"
    }
   ],
   "source": [
    "np.sum(x,axis=1)        # Sum elements row wise"
   ]
  },
  {
   "cell_type": "markdown",
   "id": "bb85c04e",
   "metadata": {},
   "source": [
    "## Reshape"
   ]
  },
  {
   "cell_type": "code",
   "execution_count": 84,
   "id": "478a9f1a",
   "metadata": {},
   "outputs": [],
   "source": [
    "x  = np.random.randint(0,100,100)"
   ]
  },
  {
   "cell_type": "code",
   "execution_count": 86,
   "id": "c5adc739",
   "metadata": {},
   "outputs": [
    {
     "data": {
      "text/plain": [
       "(100,)"
      ]
     },
     "execution_count": 86,
     "metadata": {},
     "output_type": "execute_result"
    }
   ],
   "source": [
    "x.shape"
   ]
  },
  {
   "cell_type": "code",
   "execution_count": 91,
   "id": "6783d489",
   "metadata": {},
   "outputs": [
    {
     "data": {
      "text/plain": [
       "array([[39, 97, 30, 13, 81, 94,  4, 13, 22,  2, 54, 72, 89, 40, 92, 26,\n",
       "        43,  0, 27, 91],\n",
       "       [63, 90, 20, 34, 58, 60, 80,  9,  5, 25, 83, 94, 34,  4, 90, 92,\n",
       "        14, 66, 11, 67],\n",
       "       [ 1, 42,  7, 38, 59,  7, 20, 77, 28, 33, 94, 45, 35,  1, 86, 33,\n",
       "        44, 82, 13, 29],\n",
       "       [78, 86, 25, 73, 48, 89, 86, 54,  5, 68, 44, 67, 44, 62, 29,  8,\n",
       "        15, 83, 26, 44],\n",
       "       [11, 60, 12, 23,  7, 61, 82, 39, 39, 20, 14, 95, 10, 80, 32, 49,\n",
       "         8, 38, 91, 73]])"
      ]
     },
     "execution_count": 91,
     "metadata": {},
     "output_type": "execute_result"
    }
   ],
   "source": [
    "x.reshape(5,20)"
   ]
  },
  {
   "cell_type": "markdown",
   "id": "24e5f5b5",
   "metadata": {},
   "source": [
    "## Filters"
   ]
  },
  {
   "cell_type": "code",
   "execution_count": 100,
   "id": "a766f0de",
   "metadata": {},
   "outputs": [],
   "source": [
    "x  = np.random.randint(0,100,50)"
   ]
  },
  {
   "cell_type": "code",
   "execution_count": 101,
   "id": "1d907fb1",
   "metadata": {},
   "outputs": [
    {
     "data": {
      "text/plain": [
       "array([75, 69, 70, 76,  2, 55, 25, 64, 95, 55, 85, 64, 28,  1, 82, 76,  6,\n",
       "       59, 62, 36, 51, 77,  4, 86, 50, 92, 65, 23, 39, 17, 42, 72, 62, 42,\n",
       "       82, 37, 55, 45, 79, 86, 50, 75, 74, 56, 40, 27, 79,  9, 59,  0])"
      ]
     },
     "execution_count": 101,
     "metadata": {},
     "output_type": "execute_result"
    }
   ],
   "source": [
    "x"
   ]
  },
  {
   "cell_type": "code",
   "execution_count": 102,
   "id": "fd7a8dbd",
   "metadata": {},
   "outputs": [
    {
     "data": {
      "text/plain": [
       "array([75, 69, 70, 76, 55, 64, 95, 55, 85, 64, 82, 76, 59, 62, 51, 77, 86,\n",
       "       92, 65, 72, 62, 82, 55, 79, 86, 75, 74, 56, 79, 59])"
      ]
     },
     "execution_count": 102,
     "metadata": {},
     "output_type": "execute_result"
    }
   ],
   "source": [
    "x[x>50]                 # Returns the values that satisfies the filter condition"
   ]
  },
  {
   "cell_type": "code",
   "execution_count": 108,
   "id": "49a5e19c",
   "metadata": {},
   "outputs": [],
   "source": [
    "x = copy.copy(x.reshape(5,10))"
   ]
  },
  {
   "cell_type": "code",
   "execution_count": 112,
   "id": "dd51df5d",
   "metadata": {},
   "outputs": [
    {
     "data": {
      "text/plain": [
       "array([75, 69, 70, 76, 55, 64, 95, 55, 85, 64, 82, 76, 59, 62, 51, 77, 86,\n",
       "       92, 65, 72, 62, 82, 55, 79, 86, 75, 74, 56, 79, 59])"
      ]
     },
     "execution_count": 112,
     "metadata": {},
     "output_type": "execute_result"
    }
   ],
   "source": [
    "x[x>50]                 # Still return the values as a single array without preserving the original shape"
   ]
  },
  {
   "cell_type": "code",
   "execution_count": 120,
   "id": "b4ef805f",
   "metadata": {},
   "outputs": [
    {
     "name": "stdout",
     "output_type": "stream",
     "text": [
      "49\n",
      "[3 1 2 1 0 4 1 4 2 4]\n",
      "[4 3 2 5 9]\n"
     ]
    }
   ],
   "source": [
    "print(np.argmin(x))             # Returns the indices of the minimum value along the axis\n",
    "print(np.argmin(x,axis=0))      # Returns the indices of the minimum value along the column\n",
    "print(np.argmin(x,axis=1))      # Returns the indices of the minimum value along the row"
   ]
  },
  {
   "cell_type": "code",
   "execution_count": 123,
   "id": "a5eaec95",
   "metadata": {},
   "outputs": [
    {
     "data": {
      "text/plain": [
       "array([[75, 69, 70, 76,  2, 55, 25, 64, 95, 55],\n",
       "       [85, 64, 28,  1, 82, 76,  6, 59, 62, 36],\n",
       "       [51, 77,  4, 86, 50, 92, 65, 23, 39, 17],\n",
       "       [42, 72, 62, 42, 82, 37, 55, 45, 79, 86],\n",
       "       [50, 75, 74, 56, 40, 27, 79,  9, 59,  0]])"
      ]
     },
     "execution_count": 123,
     "metadata": {},
     "output_type": "execute_result"
    }
   ],
   "source": [
    "x"
   ]
  },
  {
   "cell_type": "code",
   "execution_count": 124,
   "id": "297d7968",
   "metadata": {},
   "outputs": [
    {
     "data": {
      "text/plain": [
       "array([270.64,  21.04, 738.24, 889.76, 888.96, 577.84, 714.4 , 442.4 ,\n",
       "       360.16, 895.76])"
      ]
     },
     "execution_count": 124,
     "metadata": {},
     "output_type": "execute_result"
    }
   ],
   "source": [
    "np.var(x,axis=0)               # Returns the variance of each column"
   ]
  },
  {
   "cell_type": "code",
   "execution_count": 137,
   "id": "ac2a5508",
   "metadata": {},
   "outputs": [
    {
     "data": {
      "text/plain": [
       "array([4, 3, 9])"
      ]
     },
     "execution_count": 137,
     "metadata": {},
     "output_type": "execute_result"
    }
   ],
   "source": [
    "v = np.var(x,axis=0)\n",
    "np.argsort(v)                   # Returns the indices of the variances in the sorted order in default ascending order\n",
    "high_var = np.argsort(v)[-3:]   # Take the top three high variance indices\n",
    "high_var"
   ]
  },
  {
   "cell_type": "code",
   "execution_count": 139,
   "id": "54b19df7",
   "metadata": {},
   "outputs": [
    {
     "data": {
      "text/plain": [
       "array([[ 2, 76, 55],\n",
       "       [82,  1, 36],\n",
       "       [50, 86, 17],\n",
       "       [82, 42, 86],\n",
       "       [40, 56,  0]])"
      ]
     },
     "execution_count": 139,
     "metadata": {},
     "output_type": "execute_result"
    }
   ],
   "source": [
    "x[:,high_var]                   # Return the columns with high variancve"
   ]
  },
  {
   "cell_type": "markdown",
   "id": "65df3bcc",
   "metadata": {},
   "source": [
    "### Use where to Filter"
   ]
  },
  {
   "cell_type": "code",
   "execution_count": 233,
   "id": "e4aceda4",
   "metadata": {},
   "outputs": [
    {
     "data": {
      "text/plain": [
       "array([71, 88, 32, 17, 10, 23, 15, 86, 74, 96, 53, 79, 83, 85,  6,  1, 53,\n",
       "       38, 53, 59, 28, 23, 63, 15, 16, 91, 12, 82, 15, 24,  0, 69, 82, 72,\n",
       "       50, 19, 40, 74, 17, 23, 78, 78, 11, 15, 96, 15, 11, 28, 97, 18])"
      ]
     },
     "execution_count": 233,
     "metadata": {},
     "output_type": "execute_result"
    }
   ],
   "source": [
    "x  = np.random.randint(0,100,50)\n",
    "x"
   ]
  },
  {
   "cell_type": "code",
   "execution_count": 235,
   "id": "cfbd8712",
   "metadata": {},
   "outputs": [
    {
     "data": {
      "text/plain": [
       "(array([ 2,  3,  4,  5,  6, 14, 15, 17, 20, 21, 23, 24, 26, 28, 29, 30, 35,\n",
       "        36, 38, 39, 42, 43, 45, 46, 47, 49]),)"
      ]
     },
     "execution_count": 235,
     "metadata": {},
     "output_type": "execute_result"
    }
   ],
   "source": [
    "np.where(x<50)        # Returns the values that satisfies the filter condition"
   ]
  },
  {
   "cell_type": "markdown",
   "id": "193534d7",
   "metadata": {},
   "source": [
    "## Broadcasting"
   ]
  },
  {
   "cell_type": "code",
   "execution_count": 161,
   "id": "ae4ce836",
   "metadata": {},
   "outputs": [],
   "source": [
    "x = np.array(range(0,20))\n",
    "y = 20"
   ]
  },
  {
   "cell_type": "code",
   "execution_count": 157,
   "id": "ba36189c",
   "metadata": {},
   "outputs": [
    {
     "data": {
      "text/plain": [
       "array([20, 21, 22, 23, 24, 25, 26, 27, 28, 29, 30, 31, 32, 33, 34, 35, 36,\n",
       "       37, 38, 39])"
      ]
     },
     "execution_count": 157,
     "metadata": {},
     "output_type": "execute_result"
    }
   ],
   "source": [
    "x + y                           # Element wise addition"
   ]
  },
  {
   "cell_type": "code",
   "execution_count": 164,
   "id": "92393b63",
   "metadata": {},
   "outputs": [],
   "source": [
    "y = np.array([1,2,3,4])         # Use a array instead of a scaler"
   ]
  },
  {
   "cell_type": "code",
   "execution_count": 165,
   "id": "ff1f4a62",
   "metadata": {},
   "outputs": [
    {
     "ename": "ValueError",
     "evalue": "operands could not be broadcast together with shapes (20,) (4,) ",
     "output_type": "error",
     "traceback": [
      "\u001b[0;31m---------------------------------------------------------------------------\u001b[0m",
      "\u001b[0;31mValueError\u001b[0m                                Traceback (most recent call last)",
      "Input \u001b[0;32mIn [165]\u001b[0m, in \u001b[0;36m<module>\u001b[0;34m\u001b[0m\n\u001b[0;32m----> 1\u001b[0m \u001b[43mx\u001b[49m\u001b[43m \u001b[49m\u001b[38;5;241;43m+\u001b[39;49m\u001b[43m \u001b[49m\u001b[43my\u001b[49m\n",
      "\u001b[0;31mValueError\u001b[0m: operands could not be broadcast together with shapes (20,) (4,) "
     ]
    }
   ],
   "source": [
    "x + y"
   ]
  },
  {
   "cell_type": "code",
   "execution_count": 166,
   "id": "9fc45ec8",
   "metadata": {},
   "outputs": [
    {
     "data": {
      "text/plain": [
       "((4, 5), (4,))"
      ]
     },
     "execution_count": 166,
     "metadata": {},
     "output_type": "execute_result"
    }
   ],
   "source": [
    "x = x.reshape(4,5)\n",
    "x.shape, y.shape"
   ]
  },
  {
   "cell_type": "code",
   "execution_count": 168,
   "id": "5ac32c71",
   "metadata": {},
   "outputs": [
    {
     "ename": "ValueError",
     "evalue": "operands could not be broadcast together with shapes (4,5) (4,) ",
     "output_type": "error",
     "traceback": [
      "\u001b[0;31m---------------------------------------------------------------------------\u001b[0m",
      "\u001b[0;31mValueError\u001b[0m                                Traceback (most recent call last)",
      "Input \u001b[0;32mIn [168]\u001b[0m, in \u001b[0;36m<module>\u001b[0;34m\u001b[0m\n\u001b[0;32m----> 1\u001b[0m \u001b[43mx\u001b[49m\u001b[43m \u001b[49m\u001b[38;5;241;43m+\u001b[39;49m\u001b[43m \u001b[49m\u001b[43my\u001b[49m\n",
      "\u001b[0;31mValueError\u001b[0m: operands could not be broadcast together with shapes (4,5) (4,) "
     ]
    }
   ],
   "source": [
    "x + y"
   ]
  },
  {
   "cell_type": "code",
   "execution_count": 171,
   "id": "0ab8f32c",
   "metadata": {},
   "outputs": [
    {
     "data": {
      "text/plain": [
       "(4, 1)"
      ]
     },
     "execution_count": 171,
     "metadata": {},
     "output_type": "execute_result"
    }
   ],
   "source": [
    "y = y.reshape(4,1)\n",
    "y.shape"
   ]
  },
  {
   "cell_type": "code",
   "execution_count": 172,
   "id": "9620b9ec",
   "metadata": {},
   "outputs": [
    {
     "data": {
      "text/plain": [
       "array([[ 1,  2,  3,  4,  5],\n",
       "       [ 7,  8,  9, 10, 11],\n",
       "       [13, 14, 15, 16, 17],\n",
       "       [19, 20, 21, 22, 23]])"
      ]
     },
     "execution_count": 172,
     "metadata": {},
     "output_type": "execute_result"
    }
   ],
   "source": [
    "x + y"
   ]
  },
  {
   "cell_type": "code",
   "execution_count": 173,
   "id": "6de26246",
   "metadata": {},
   "outputs": [
    {
     "data": {
      "text/plain": [
       "array([[ 0,  1,  2,  3,  4],\n",
       "       [ 5,  6,  7,  8,  9],\n",
       "       [10, 11, 12, 13, 14],\n",
       "       [15, 16, 17, 18, 19]])"
      ]
     },
     "execution_count": 173,
     "metadata": {},
     "output_type": "execute_result"
    }
   ],
   "source": [
    "x"
   ]
  },
  {
   "cell_type": "code",
   "execution_count": 174,
   "id": "80ebfb42",
   "metadata": {},
   "outputs": [
    {
     "data": {
      "text/plain": [
       "array([[1],\n",
       "       [2],\n",
       "       [3],\n",
       "       [4]])"
      ]
     },
     "execution_count": 174,
     "metadata": {},
     "output_type": "execute_result"
    }
   ],
   "source": [
    "y"
   ]
  },
  {
   "cell_type": "markdown",
   "id": "fa22f1b5",
   "metadata": {},
   "source": [
    "## Matrix Operation"
   ]
  },
  {
   "cell_type": "code",
   "execution_count": 177,
   "id": "9279dd7d",
   "metadata": {},
   "outputs": [],
   "source": [
    "aMatrx = np.array([[1,1,1],[2,2,2]])\n",
    "bMatrx = np.array([[3,3,3],[4,4,4]])"
   ]
  },
  {
   "cell_type": "code",
   "execution_count": 180,
   "id": "388e5a47",
   "metadata": {},
   "outputs": [
    {
     "data": {
      "text/plain": [
       "(array([[1, 1, 1],\n",
       "        [2, 2, 2]]),\n",
       " array([[3, 3, 3],\n",
       "        [4, 4, 4]]))"
      ]
     },
     "execution_count": 180,
     "metadata": {},
     "output_type": "execute_result"
    }
   ],
   "source": [
    "aMatrx,bMatrx"
   ]
  },
  {
   "cell_type": "code",
   "execution_count": 183,
   "id": "fefaec4c",
   "metadata": {},
   "outputs": [
    {
     "data": {
      "text/plain": [
       "array([[3, 3, 3],\n",
       "       [8, 8, 8]])"
      ]
     },
     "execution_count": 183,
     "metadata": {},
     "output_type": "execute_result"
    }
   ],
   "source": [
    "aMatrx * bMatrx     # Element wise Multiplication"
   ]
  },
  {
   "cell_type": "code",
   "execution_count": 184,
   "id": "7572f138",
   "metadata": {},
   "outputs": [
    {
     "ename": "ValueError",
     "evalue": "shapes (2,3) and (2,3) not aligned: 3 (dim 1) != 2 (dim 0)",
     "output_type": "error",
     "traceback": [
      "\u001b[0;31m---------------------------------------------------------------------------\u001b[0m",
      "\u001b[0;31mValueError\u001b[0m                                Traceback (most recent call last)",
      "Input \u001b[0;32mIn [184]\u001b[0m, in \u001b[0;36m<module>\u001b[0;34m\u001b[0m\n\u001b[0;32m----> 1\u001b[0m \u001b[43maMatrx\u001b[49m\u001b[38;5;241;43m.\u001b[39;49m\u001b[43mdot\u001b[49m\u001b[43m(\u001b[49m\u001b[43mbMatrx\u001b[49m\u001b[43m)\u001b[49m\n",
      "\u001b[0;31mValueError\u001b[0m: shapes (2,3) and (2,3) not aligned: 3 (dim 1) != 2 (dim 0)"
     ]
    }
   ],
   "source": [
    "aMatrx.dot(bMatrx)   # Dot Product"
   ]
  },
  {
   "cell_type": "code",
   "execution_count": 185,
   "id": "2f2350a0",
   "metadata": {},
   "outputs": [
    {
     "data": {
      "text/plain": [
       "array([[ 9, 12],\n",
       "       [18, 24]])"
      ]
     },
     "execution_count": 185,
     "metadata": {},
     "output_type": "execute_result"
    }
   ],
   "source": [
    "aMatrx.dot(bMatrx.T)   # Dot Product"
   ]
  },
  {
   "cell_type": "code",
   "execution_count": 187,
   "id": "3ae2f19e",
   "metadata": {},
   "outputs": [
    {
     "data": {
      "text/plain": [
       "array([[ 9, 12],\n",
       "       [18, 24]])"
      ]
     },
     "execution_count": 187,
     "metadata": {},
     "output_type": "execute_result"
    }
   ],
   "source": [
    "np.dot(aMatrx,bMatrx.T)"
   ]
  },
  {
   "cell_type": "code",
   "execution_count": 189,
   "id": "8cf884d2",
   "metadata": {},
   "outputs": [
    {
     "data": {
      "text/plain": [
       "array([[ 9, 12],\n",
       "       [18, 24]])"
      ]
     },
     "execution_count": 189,
     "metadata": {},
     "output_type": "execute_result"
    }
   ],
   "source": [
    "aMatrx @ bMatrx.T"
   ]
  },
  {
   "cell_type": "markdown",
   "id": "d3b9815b",
   "metadata": {},
   "source": [
    "## More Functions"
   ]
  },
  {
   "cell_type": "code",
   "execution_count": 193,
   "id": "fc7ecc1b",
   "metadata": {},
   "outputs": [
    {
     "data": {
      "text/plain": [
       "array([[0., 0., 0., 0.],\n",
       "       [0., 0., 0., 0.],\n",
       "       [0., 0., 0., 0.]])"
      ]
     },
     "execution_count": 193,
     "metadata": {},
     "output_type": "execute_result"
    }
   ],
   "source": [
    "np.zeros((3,4))                 # returns zeros with the specified shape"
   ]
  },
  {
   "cell_type": "code",
   "execution_count": 194,
   "id": "992075c4",
   "metadata": {},
   "outputs": [
    {
     "data": {
      "text/plain": [
       "array([[1., 1., 1., 1.],\n",
       "       [1., 1., 1., 1.],\n",
       "       [1., 1., 1., 1.]])"
      ]
     },
     "execution_count": 194,
     "metadata": {},
     "output_type": "execute_result"
    }
   ],
   "source": [
    "np.ones((3,4))                  # returns ones with the specified shape"
   ]
  },
  {
   "cell_type": "code",
   "execution_count": 202,
   "id": "73cafe1f",
   "metadata": {},
   "outputs": [
    {
     "data": {
      "text/plain": [
       "array([[0.67969731, 0.35476978, 0.32207844, 0.8439246 ],\n",
       "       [0.12254128, 0.503756  , 0.45357304, 0.07053365],\n",
       "       [0.75189662, 0.33125686, 0.62899682, 0.30366683]])"
      ]
     },
     "execution_count": 202,
     "metadata": {},
     "output_type": "execute_result"
    }
   ],
   "source": [
    "np.random.random((3,4))         # returns random with the specified shape"
   ]
  },
  {
   "cell_type": "code",
   "execution_count": 204,
   "id": "0f40901f",
   "metadata": {},
   "outputs": [
    {
     "data": {
      "text/plain": [
       "array([ 0.        ,  1.11111111,  2.22222222,  3.33333333,  4.44444444,\n",
       "        5.55555556,  6.66666667,  7.77777778,  8.88888889, 10.        ])"
      ]
     },
     "execution_count": 204,
     "metadata": {},
     "output_type": "execute_result"
    }
   ],
   "source": [
    "np.linspace(0,10,10)           # returns the N values with equally spaced interval "
   ]
  },
  {
   "cell_type": "code",
   "execution_count": 207,
   "id": "e4a46180",
   "metadata": {},
   "outputs": [
    {
     "data": {
      "text/plain": [
       "array([[2.2809157 , 2.4766189 , 1.52812612, 1.36973708],\n",
       "       [1.47917707, 2.63051816, 1.92798426, 1.47027835],\n",
       "       [1.10157006, 1.29559599, 1.58877012, 1.71095248]])"
      ]
     },
     "execution_count": 207,
     "metadata": {},
     "output_type": "execute_result"
    }
   ],
   "source": [
    "r = np.random.random((3,4)) \n",
    "np.exp(r)                     #e^x"
   ]
  },
  {
   "cell_type": "code",
   "execution_count": 208,
   "id": "ecc7e6ea",
   "metadata": {},
   "outputs": [
    {
     "data": {
      "text/plain": [
       "array([[0.90806221, 0.95230997, 0.65118525, 0.56090891],\n",
       "       [0.62568834, 0.98345353, 0.81023147, 0.62084759],\n",
       "       [0.3110249 , 0.50889175, 0.68041179, 0.73283711]])"
      ]
     },
     "execution_count": 208,
     "metadata": {},
     "output_type": "execute_result"
    }
   ],
   "source": [
    "np.sqrt(r)"
   ]
  },
  {
   "cell_type": "markdown",
   "id": "c79de4eb",
   "metadata": {},
   "source": [
    "## Flatten "
   ]
  },
  {
   "cell_type": "code",
   "execution_count": 228,
   "id": "0664088a",
   "metadata": {},
   "outputs": [
    {
     "data": {
      "text/plain": [
       "array([[[ 0],\n",
       "        [ 1],\n",
       "        [ 2],\n",
       "        [ 3],\n",
       "        [ 4]],\n",
       "\n",
       "       [[ 5],\n",
       "        [ 6],\n",
       "        [ 7],\n",
       "        [ 8],\n",
       "        [ 9]],\n",
       "\n",
       "       [[10],\n",
       "        [11],\n",
       "        [12],\n",
       "        [13],\n",
       "        [14]],\n",
       "\n",
       "       [[15],\n",
       "        [16],\n",
       "        [17],\n",
       "        [18],\n",
       "        [19]]])"
      ]
     },
     "execution_count": 228,
     "metadata": {},
     "output_type": "execute_result"
    }
   ],
   "source": [
    "x = np.array(range(0,20))\n",
    "x = x.reshape(4,5,1)\n",
    "x"
   ]
  },
  {
   "cell_type": "code",
   "execution_count": 229,
   "id": "ad720c99",
   "metadata": {},
   "outputs": [
    {
     "data": {
      "text/plain": [
       "array([ 0,  1,  2,  3,  4,  5,  6,  7,  8,  9, 10, 11, 12, 13, 14, 15, 16,\n",
       "       17, 18, 19])"
      ]
     },
     "execution_count": 229,
     "metadata": {},
     "output_type": "execute_result"
    }
   ],
   "source": [
    "x.ravel()             # Returns all the elements as a 1-dim array"
   ]
  },
  {
   "cell_type": "code",
   "execution_count": 232,
   "id": "7d5f2f39",
   "metadata": {},
   "outputs": [
    {
     "data": {
      "text/plain": [
       "array([[ 0,  1,  2,  3,  4],\n",
       "       [ 5,  6,  7,  8,  9],\n",
       "       [10, 11, 12, 13, 14],\n",
       "       [15, 16, 17, 18, 19]])"
      ]
     },
     "execution_count": 232,
     "metadata": {},
     "output_type": "execute_result"
    }
   ],
   "source": [
    "x.squeeze()           # Remove axes of length one from the array"
   ]
  },
  {
   "cell_type": "markdown",
   "id": "d78212b2",
   "metadata": {},
   "source": [
    "## Neural Network Dense Layer Calculation in Numpy"
   ]
  },
  {
   "cell_type": "markdown",
   "id": "683fd4c3",
   "metadata": {},
   "source": [
    "y = x*W+b"
   ]
  },
  {
   "cell_type": "markdown",
   "id": "ae11d8b2",
   "metadata": {},
   "source": [
    "x = Input\n",
    "W = weights\n",
    "b = bias"
   ]
  },
  {
   "cell_type": "code",
   "execution_count": 244,
   "id": "b58daecc",
   "metadata": {},
   "outputs": [],
   "source": [
    "x = np.random.random(5)\n",
    "W = np.random.random((10,5))\n",
    "b = np.random.random(10)"
   ]
  },
  {
   "cell_type": "code",
   "execution_count": 247,
   "id": "eeed143c",
   "metadata": {},
   "outputs": [
    {
     "data": {
      "text/plain": [
       "(array([0.40309742, 0.03047681, 0.31759195, 0.98617297, 0.52096539]),\n",
       " array([[0.80438879, 0.38717099, 0.85355585, 0.57639143, 0.73894598],\n",
       "        [0.07841232, 0.39678878, 0.87215028, 0.11958088, 0.58505128],\n",
       "        [0.53279894, 0.72035628, 0.69184644, 0.35129985, 0.97634392],\n",
       "        [0.13734412, 0.72136849, 0.30437657, 0.27836555, 0.01016031],\n",
       "        [0.90548354, 0.98137672, 0.23234893, 0.65121481, 0.1407994 ],\n",
       "        [0.58489995, 0.18342309, 0.65962874, 0.97064905, 0.70471222],\n",
       "        [0.90466662, 0.08828749, 0.29962745, 0.70012221, 0.64061876],\n",
       "        [0.40783995, 0.81971321, 0.72286901, 0.90756528, 0.92637078],\n",
       "        [0.71613833, 0.95723385, 0.63076095, 0.23344215, 0.06811412],\n",
       "        [0.33984405, 0.51313708, 0.19282056, 0.68267904, 0.93880995]]),\n",
       " array([0.58985975, 0.27639838, 0.58677185, 0.78033016, 0.43506664,\n",
       "        0.18997559, 0.27933691, 0.05375438, 0.81977092, 0.56052119]))"
      ]
     },
     "execution_count": 247,
     "metadata": {},
     "output_type": "execute_result"
    }
   ],
   "source": [
    "x,W,b"
   ]
  },
  {
   "cell_type": "code",
   "execution_count": 248,
   "id": "3ad71ec4",
   "metadata": {},
   "outputs": [
    {
     "data": {
      "text/plain": [
       "array([2.15037592, 1.01980584, 1.89830456, 1.23415553, 1.61932814,\n",
       "       1.9651887 , 1.76603747, 1.85033668, 1.6036419 , 1.93671559])"
      ]
     },
     "execution_count": 248,
     "metadata": {},
     "output_type": "execute_result"
    }
   ],
   "source": [
    "np.dot(x,W.T) + b"
   ]
  },
  {
   "cell_type": "code",
   "execution_count": 249,
   "id": "45d4b7c5",
   "metadata": {},
   "outputs": [
    {
     "data": {
      "text/plain": [
       "array([2.15037592, 1.5       , 1.89830456, 1.5       , 1.61932814,\n",
       "       1.9651887 , 1.76603747, 1.85033668, 1.6036419 , 1.93671559])"
      ]
     },
     "execution_count": 249,
     "metadata": {},
     "output_type": "execute_result"
    }
   ],
   "source": [
    "y = np.dot(x,W.T) + b\n",
    "np.maximum(1.5,y)"
   ]
  },
  {
   "cell_type": "code",
   "execution_count": null,
   "id": "7635d726",
   "metadata": {},
   "outputs": [],
   "source": []
  }
 ],
 "metadata": {
  "kernelspec": {
   "display_name": "Python 3",
   "language": "python",
   "name": "python3"
  },
  "language_info": {
   "codemirror_mode": {
    "name": "ipython",
    "version": 3
   },
   "file_extension": ".py",
   "mimetype": "text/x-python",
   "name": "python",
   "nbconvert_exporter": "python",
   "pygments_lexer": "ipython3",
   "version": "3.9.5"
  }
 },
 "nbformat": 4,
 "nbformat_minor": 5
}
