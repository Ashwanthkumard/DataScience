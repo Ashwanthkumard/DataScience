{
 "cells": [
  {
   "cell_type": "markdown",
   "metadata": {
    "colab_type": "text",
    "id": "x_BkOtqBIKQz"
   },
   "source": [
    "# Data Science Challenge"
   ]
  },
  {
   "cell_type": "code",
   "execution_count": 207,
   "metadata": {
    "colab": {},
    "colab_type": "code",
    "id": "U_VthdACIKQ6"
   },
   "outputs": [
    {
     "name": "stdout",
     "output_type": "stream",
     "text": [
      "Collecting lightgbm\n",
      "  Downloading lightgbm-3.2.1-py3-none-manylinux1_x86_64.whl (2.0 MB)\n",
      "\u001b[K     |████████████████████████████████| 2.0 MB 4.4 MB/s eta 0:00:01\n",
      "\u001b[?25hRequirement already satisfied: scipy in /opt/conda/lib/python3.7/site-packages (from lightgbm) (1.3.3)\n",
      "Requirement already satisfied: numpy in /opt/conda/lib/python3.7/site-packages (from lightgbm) (1.19.2)\n",
      "Requirement already satisfied: wheel in /opt/conda/lib/python3.7/site-packages (from lightgbm) (0.35.1)\n",
      "Requirement already satisfied: scikit-learn!=0.22.0 in /opt/conda/lib/python3.7/site-packages (from lightgbm) (0.21.3)\n",
      "Requirement already satisfied: joblib>=0.11 in /opt/conda/lib/python3.7/site-packages (from scikit-learn!=0.22.0->lightgbm) (0.17.0)\n",
      "Installing collected packages: lightgbm\n",
      "Successfully installed lightgbm-3.2.1\n"
     ]
    }
   ],
   "source": [
    "# If you'd like to install packages that aren't installed by default, uncomment the last two lines of this cell and replace <package list> with a list of your packages.\n",
    "# This will ensure your notebook has all the dependencies and works everywhere\n",
    "\n",
    "import sys\n",
    "!{sys.executable} -m pip install lightgbm #seaborn"
   ]
  },
  {
   "cell_type": "code",
   "execution_count": 309,
   "metadata": {
    "colab": {},
    "colab_type": "code",
    "id": "VzGFUCCVIKRL"
   },
   "outputs": [],
   "source": [
    "#Libraries\n",
    "import pandas as pd\n",
    "import numpy as np\n",
    "import matplotlib.pyplot as plt\n",
    "import seaborn as sns\n",
    "pd.set_option(\"display.max_columns\", 101)"
   ]
  },
  {
   "cell_type": "markdown",
   "metadata": {
    "colab_type": "text",
    "id": "TZ23KNY8IKRT"
   },
   "source": [
    "## Data Description"
   ]
  },
  {
   "cell_type": "markdown",
   "metadata": {
    "colab_type": "text",
    "id": "jWSkqquEIKRW"
   },
   "source": [
    "Column | Description\n",
    ":---|:---------\n",
    "`title` |Title of the movie|\n",
    "`country` | Countries in which movie was released|\n",
    "`genres` | Movie Genres (Action ,Adventure, Comedy etc.)\n",
    "`language` | Languages in which movie was released\n",
    "`writer_count` | Number of writers of the movie\n",
    "`title_adaption` | Is movie original screenplay or adapted.\n",
    "`censor_rating` | Release rating given to the movie (R /PG-13/PG/NR/UR/G)\n",
    "`release_date` | Date when movie was released\n",
    "`runtime` | Movie runtime\n",
    "`dvd_release_date` | Date of release of DVD for sale\n",
    "`users_votes` | Number of users who voted for this movie to be included in Watch-It library\n",
    "`comments` | Number of comments on movie trailer(as of now)\n",
    "`likes` | Number of likes on movie trailer (as of now)\n",
    "`overall_views` | Number of views on movie trailer (as of now)\n",
    "`dislikes` | Number of dislikes on movie trailer (as of now)\n",
    "`ratings_imdb` | Rating given to movie on IMDB.\n",
    "`ratings_tomatoes` | Rating given to movie on Rotten tomatoes.\n",
    "`ratings_metacritic` | Rating given to movie on Metacritic etc.\n",
    "`special_award` | Number of awards nominations/winnings in BAFTA, Oscar or  Golden Globe.\n",
    "`awards_win` | awards won by the movie\n",
    "`awards_nomination` | Number of awards nominations\n",
    "`revenue_category` | Revenue Category (High/Low)"
   ]
  },
  {
   "cell_type": "markdown",
   "metadata": {
    "colab_type": "text",
    "id": "BWQqx7cSIKRX"
   },
   "source": [
    "## Data Wrangling & Visualization"
   ]
  },
  {
   "cell_type": "code",
   "execution_count": 310,
   "metadata": {
    "colab": {},
    "colab_type": "code",
    "id": "SsjL7tf7IKRc"
   },
   "outputs": [],
   "source": [
    "# Dataset is already loaded below\n",
    "data = pd.read_csv(\"train.csv\")\n",
    "test = pd.read_csv(\"test.csv\")"
   ]
  },
  {
   "cell_type": "code",
   "execution_count": 311,
   "metadata": {
    "colab": {},
    "colab_type": "code",
    "id": "KajCr0Vtc_S3",
    "outputId": "95da1e03-16e0-47e9-a8e4-c3838f0b7d4e"
   },
   "outputs": [
    {
     "data": {
      "text/plain": [
       "((2400, 22), (600, 21))"
      ]
     },
     "execution_count": 311,
     "metadata": {},
     "output_type": "execute_result"
    }
   ],
   "source": [
    "data.shape,test.shape"
   ]
  },
  {
   "cell_type": "code",
   "execution_count": 312,
   "metadata": {
    "colab": {},
    "colab_type": "code",
    "id": "0mhMZRlBIKRu",
    "outputId": "0a669059-5528-4ec0-d64b-8231f6aadf45"
   },
   "outputs": [
    {
     "data": {
      "text/plain": [
       "Index(['title', 'country', 'genres', 'language', 'writer_count',\n",
       "       'title_adaption', 'censor_rating', 'release_date', 'runtime',\n",
       "       'dvd_release_date', 'users_votes', 'comments', 'likes', 'overall_views',\n",
       "       'dislikes', 'ratings_imdb', 'ratings_tomatoes', 'ratings_metacritic',\n",
       "       'special_award', 'awards_win', 'awards_nomination', 'revenue_category'],\n",
       "      dtype='object')"
      ]
     },
     "execution_count": 312,
     "metadata": {},
     "output_type": "execute_result"
    }
   ],
   "source": [
    "#Explore columns\n",
    "data.columns"
   ]
  },
  {
   "cell_type": "code",
   "execution_count": 313,
   "metadata": {
    "colab": {},
    "colab_type": "code",
    "id": "-SrTmyfJIKR1",
    "outputId": "12b270ca-8c3f-402b-d6c1-286c17e63fdd"
   },
   "outputs": [],
   "source": [
    "#Description\n",
    "# data.describe()"
   ]
  },
  {
   "cell_type": "markdown",
   "metadata": {},
   "source": [
    "## Data Preparation"
   ]
  },
  {
   "cell_type": "markdown",
   "metadata": {},
   "source": [
    "#### Stripping text from runtime column as runtime of a movie is a numeric feature"
   ]
  },
  {
   "cell_type": "code",
   "execution_count": 314,
   "metadata": {},
   "outputs": [],
   "source": [
    "data['runtime'] = data['runtime'].apply(lambda x : x.replace(' min',''))\n",
    "data['runtime'] = data['runtime'].apply(lambda x : int(x))\n",
    "\n",
    "\n",
    "test['runtime'] = test['runtime'].apply(lambda x : x.replace(' min',''))\n",
    "test['runtime'] = test['runtime'].apply(lambda x : int(x))"
   ]
  },
  {
   "cell_type": "markdown",
   "metadata": {},
   "source": [
    "#### Converting all ratings into same scale of 100 to have a relative comparision"
   ]
  },
  {
   "cell_type": "code",
   "execution_count": 315,
   "metadata": {},
   "outputs": [],
   "source": [
    "data['ratings_imdb'] = data['ratings_imdb'].apply(lambda x : float(x.split('/')[0])*10)\n",
    "data['ratings_tomatoes'] = data['ratings_tomatoes'].apply(lambda x : float(x.split('%')[0]))\n",
    "data['ratings_metacritic'] = data['ratings_metacritic'].apply(lambda x : float(x.split('/')[0]))\n",
    "\n",
    "\n",
    "test['ratings_imdb'] = test['ratings_imdb'].apply(lambda x : float(x.split('/')[0])*10)\n",
    "test['ratings_tomatoes'] = test['ratings_tomatoes'].apply(lambda x : float(x.split('%')[0]))\n",
    "test['ratings_metacritic'] = test['ratings_metacritic'].apply(lambda x : float(x.split('/')[0]))"
   ]
  },
  {
   "cell_type": "markdown",
   "metadata": {},
   "source": [
    "#### Understanding the Dimensionality of the fetaures"
   ]
  },
  {
   "cell_type": "markdown",
   "metadata": {},
   "source": [
    "#### Total No of countries"
   ]
  },
  {
   "cell_type": "code",
   "execution_count": 316,
   "metadata": {},
   "outputs": [
    {
     "name": "stdout",
     "output_type": "stream",
     "text": [
      "Total No of Countries :  95\n"
     ]
    }
   ],
   "source": [
    "countries = list(data['country'].unique())\n",
    "countries = set([i.strip() for x in countries for i in x.split(',')])\n",
    "print(\"Total No of Countries : \",len(countries))"
   ]
  },
  {
   "cell_type": "markdown",
   "metadata": {},
   "source": [
    "#### Total No of Languages"
   ]
  },
  {
   "cell_type": "code",
   "execution_count": 317,
   "metadata": {},
   "outputs": [
    {
     "name": "stdout",
     "output_type": "stream",
     "text": [
      "Total No of Languages :  118\n"
     ]
    }
   ],
   "source": [
    "languages = list(data['language'].unique())\n",
    "languages = set([i.strip() for x in languages for i in x.split(',')])\n",
    "print(\"Total No of Languages : \",len(languages))"
   ]
  },
  {
   "cell_type": "markdown",
   "metadata": {},
   "source": [
    "#### Total No of genres"
   ]
  },
  {
   "cell_type": "code",
   "execution_count": 318,
   "metadata": {},
   "outputs": [
    {
     "name": "stdout",
     "output_type": "stream",
     "text": [
      "Total No of Genres :  24\n"
     ]
    }
   ],
   "source": [
    "genres = list(data['genres'].unique())\n",
    "genres = set([i.strip() for x in genres for i in x.split(',')])\n",
    "print(\"Total No of Genres : \",len(genres))"
   ]
  },
  {
   "cell_type": "markdown",
   "metadata": {},
   "source": [
    "### Missing Value Analysis & Imputation"
   ]
  },
  {
   "cell_type": "markdown",
   "metadata": {},
   "source": [
    "No of missing values in each column"
   ]
  },
  {
   "cell_type": "code",
   "execution_count": 319,
   "metadata": {},
   "outputs": [
    {
     "data": {
      "text/plain": [
       "title                   2\n",
       "country                 0\n",
       "genres                  0\n",
       "language                0\n",
       "writer_count           94\n",
       "title_adaption          0\n",
       "censor_rating          38\n",
       "release_date            4\n",
       "runtime                 0\n",
       "dvd_release_date       69\n",
       "users_votes             0\n",
       "comments              426\n",
       "likes                 444\n",
       "overall_views         317\n",
       "dislikes              444\n",
       "ratings_imdb            0\n",
       "ratings_tomatoes        0\n",
       "ratings_metacritic      0\n",
       "special_award           0\n",
       "awards_win              0\n",
       "awards_nomination       0\n",
       "revenue_category        0\n",
       "dtype: int64"
      ]
     },
     "execution_count": 319,
     "metadata": {},
     "output_type": "execute_result"
    }
   ],
   "source": [
    "data.isnull().sum(axis = 0)"
   ]
  },
  {
   "cell_type": "code",
   "execution_count": 320,
   "metadata": {},
   "outputs": [
    {
     "data": {
      "text/plain": [
       "title                   0\n",
       "country                 0\n",
       "genres                  0\n",
       "language                0\n",
       "writer_count           29\n",
       "title_adaption          0\n",
       "censor_rating          16\n",
       "release_date            2\n",
       "runtime                 0\n",
       "dvd_release_date       18\n",
       "users_votes             0\n",
       "comments              124\n",
       "likes                 123\n",
       "overall_views          93\n",
       "dislikes              123\n",
       "ratings_imdb            0\n",
       "ratings_tomatoes        0\n",
       "ratings_metacritic      0\n",
       "special_award           0\n",
       "awards_win              0\n",
       "awards_nomination       0\n",
       "dtype: int64"
      ]
     },
     "execution_count": 320,
     "metadata": {},
     "output_type": "execute_result"
    }
   ],
   "source": [
    "test.isnull().sum(axis = 0)"
   ]
  },
  {
   "cell_type": "markdown",
   "metadata": {},
   "source": [
    "#### Understaing sparsity in the data with the distribution of no of missing values in each row"
   ]
  },
  {
   "cell_type": "code",
   "execution_count": 321,
   "metadata": {},
   "outputs": [
    {
     "data": {
      "image/png": "[encoded data removed]",
      "text/plain": [
       "<Figure size 432x288 with 1 Axes>"
      ]
     },
     "metadata": {
      "needs_background": "light"
     },
     "output_type": "display_data"
    }
   ],
   "source": [
    "plt.title(\"Missing Values ditribution\")\n",
    "plt.hist(data.isnull().sum(axis = 1).values)\n",
    "plt.show()"
   ]
  },
  {
   "cell_type": "code",
   "execution_count": 322,
   "metadata": {},
   "outputs": [
    {
     "data": {
      "image/png": "[encoded data removed]",
      "text/plain": [
       "<Figure size 432x288 with 1 Axes>"
      ]
     },
     "metadata": {
      "needs_background": "light"
     },
     "output_type": "display_data"
    }
   ],
   "source": [
    "plt.title(\"Writers Count Distribution\")\n",
    "plt.hist(data['writer_count'])\n",
    "plt.show()"
   ]
  },
  {
   "cell_type": "code",
   "execution_count": 323,
   "metadata": {},
   "outputs": [
    {
     "name": "stdout",
     "output_type": "stream",
     "text": [
      "Average Writer Count: 2.596270598438855\n"
     ]
    }
   ],
   "source": [
    "print('Average Writer Count:',data['writer_count'].mean())"
   ]
  },
  {
   "cell_type": "markdown",
   "metadata": {},
   "source": [
    "#### Lets impute the writer missing values with the lower side of the avergae ie., 2 "
   ]
  },
  {
   "cell_type": "code",
   "execution_count": 324,
   "metadata": {},
   "outputs": [],
   "source": [
    "data['writer_count'] = data['writer_count'].fillna(2)\n",
    "test['writer_count'] = test['writer_count'].fillna(2)"
   ]
  },
  {
   "cell_type": "markdown",
   "metadata": {},
   "source": [
    "#### Imputing Censor Rating"
   ]
  },
  {
   "cell_type": "code",
   "execution_count": 325,
   "metadata": {},
   "outputs": [
    {
     "data": {
      "text/plain": [
       "R            971\n",
       "PG-13        727\n",
       "PG           276\n",
       "Not Rated    262\n",
       "G             53\n",
       "NOT RATED     36\n",
       "Unrated       26\n",
       "UNRATED       11\n",
       "Name: censor_rating, dtype: int64"
      ]
     },
     "execution_count": 325,
     "metadata": {},
     "output_type": "execute_result"
    }
   ],
   "source": [
    "data['censor_rating'].value_counts()"
   ]
  },
  {
   "cell_type": "markdown",
   "metadata": {},
   "source": [
    "#### We can observe unrated has represented in multiple ways. Lets normalize that and we can also fill missing values as unrated."
   ]
  },
  {
   "cell_type": "code",
   "execution_count": 326,
   "metadata": {},
   "outputs": [],
   "source": [
    "def fill_censor_rating(x):\n",
    "    d = {'R':1,'PG-13':2,'PG':3,'G':4}\n",
    "    if x not in ['R','PG-13','PG','G']:\n",
    "        return 0\n",
    "    else:\n",
    "        return d[x]\n",
    "\n",
    "data['censor_rating'] = data['censor_rating'].apply(lambda x : fill_censor_rating(x))\n",
    "test['censor_rating'] = test['censor_rating'].apply(lambda x : fill_censor_rating(x))"
   ]
  },
  {
   "cell_type": "markdown",
   "metadata": {},
   "source": [
    "#### Imputing Nulls and handling Outliers for User Behaviour fields like comments,likes,overall_views,dislikes              "
   ]
  },
  {
   "cell_type": "markdown",
   "metadata": {},
   "source": [
    "##### Mean and Std of the variables"
   ]
  },
  {
   "cell_type": "code",
   "execution_count": 327,
   "metadata": {},
   "outputs": [
    {
     "name": "stdout",
     "output_type": "stream",
     "text": [
      "Dislikes: 244.93756727664154 969.1258916927679\n",
      "overall_views: 1345471.603456553 4029950.607123282\n",
      "likes: 3118.6774193548385 10218.09884637013\n",
      "comments: 586.8710554951034 2174.277013708139\n"
     ]
    }
   ],
   "source": [
    "print(\"Dislikes:\",np.mean(data[data['dislikes']>0]['dislikes']),np.std(data[data['dislikes']>0]['dislikes']))\n",
    "print(\"overall_views:\",np.mean(data[data['overall_views']>0]['overall_views']),np.std(data[data['overall_views']>0]['overall_views']))\n",
    "print(\"likes:\",np.mean(data[data['likes']>0]['likes']),np.std(data[data['likes']>0]['likes']))\n",
    "print(\"comments:\",np.mean(data[data['comments']>0]['comments']),np.std(data[data['comments']>0]['comments']))\n"
   ]
  },
  {
   "cell_type": "markdown",
   "metadata": {},
   "source": [
    "These variation in the data is very high. Lets try to generalise the data with respect to the normal \n",
    "distribution strategy. For a normal distribution the 99% of the data lies in the -3 to +3 std deviations away. \n",
    "Anyway we have zeros as the lower limit and we need to restrict the upper limit ie., handling outliers."
   ]
  },
  {
   "cell_type": "code",
   "execution_count": 328,
   "metadata": {},
   "outputs": [
    {
     "data": {
      "image/png": "[encoded data removed]",
      "text/plain": [
       "<Figure size 432x288 with 1 Axes>"
      ]
     },
     "metadata": {
      "needs_background": "light"
     },
     "output_type": "display_data"
    }
   ],
   "source": [
    "plt.boxplot(data[data['dislikes']>0]['dislikes'])\n",
    "plt.show()"
   ]
  },
  {
   "cell_type": "code",
   "execution_count": 329,
   "metadata": {},
   "outputs": [],
   "source": [
    "data[data['dislikes']>3152] = 3152  # 3152 is 3 std deviations by consdiering any datapoint away 3 std as outlier \n",
    "data['dislikes'] = data['dislikes'].fillna(245)\n",
    "\n",
    "test[test['dislikes']>3152] = 3152  # 3152 is 3 std deviations by consdiering any datapoint away 3 std as outlier \n",
    "test['dislikes'] = test['dislikes'].fillna(245)"
   ]
  },
  {
   "cell_type": "code",
   "execution_count": 330,
   "metadata": {},
   "outputs": [
    {
     "data": {
      "image/png": "[encoded data removed]",
      "text/plain": [
       "<Figure size 432x288 with 1 Axes>"
      ]
     },
     "metadata": {
      "needs_background": "light"
     },
     "output_type": "display_data"
    }
   ],
   "source": [
    "plt.boxplot(data[data['overall_views']>0]['overall_views'])\n",
    "plt.show()"
   ]
  },
  {
   "cell_type": "code",
   "execution_count": 331,
   "metadata": {},
   "outputs": [],
   "source": [
    "data[data['overall_views']>13435321] = 13435321  \n",
    "data['overall_views'] = data['overall_views'].fillna(13435321)\n",
    "\n",
    "test[test['overall_views']>13435321] = 13435321  \n",
    "test['overall_views'] = test['overall_views'].fillna(13435321)"
   ]
  },
  {
   "cell_type": "code",
   "execution_count": 332,
   "metadata": {},
   "outputs": [
    {
     "data": {
      "image/png": "[encoded data removed]",
      "text/plain": [
       "<Figure size 432x288 with 1 Axes>"
      ]
     },
     "metadata": {
      "needs_background": "light"
     },
     "output_type": "display_data"
    }
   ],
   "source": [
    "plt.boxplot(data[data['likes']>0]['likes'])\n",
    "plt.show()"
   ]
  },
  {
   "cell_type": "code",
   "execution_count": 333,
   "metadata": {},
   "outputs": [],
   "source": [
    "data[data['likes']>33773] = 33773  \n",
    "data['likes'] = data['likes'].fillna(3119)\n",
    "\n",
    "test[test['likes']>33773] = 33773  \n",
    "test['likes'] = test['likes'].fillna(3119)"
   ]
  },
  {
   "cell_type": "code",
   "execution_count": 334,
   "metadata": {},
   "outputs": [
    {
     "data": {
      "image/png": "[encoded data removed]",
      "text/plain": [
       "<Figure size 432x288 with 1 Axes>"
      ]
     },
     "metadata": {
      "needs_background": "light"
     },
     "output_type": "display_data"
    }
   ],
   "source": [
    "plt.boxplot(data[data['comments']>0]['comments'])\n",
    "plt.show()"
   ]
  },
  {
   "cell_type": "code",
   "execution_count": 335,
   "metadata": {},
   "outputs": [],
   "source": [
    "data[data['comments']>7108] = 7108  \n",
    "data['comments'] = data['comments'].fillna(586)\n",
    "\n",
    "test[test['comments']>7108] = 7108  \n",
    "test['comments'] = test['comments'].fillna(586)"
   ]
  },
  {
   "cell_type": "markdown",
   "metadata": {},
   "source": [
    "### Feature Creation"
   ]
  },
  {
   "cell_type": "markdown",
   "metadata": {},
   "source": [
    "For Country, Langugage and Genere, the dimensionality is very high. So I would like to create the feature like \n",
    "the no of countries, no of languages and no of generes per movie"
   ]
  },
  {
   "cell_type": "code",
   "execution_count": 342,
   "metadata": {},
   "outputs": [],
   "source": [
    "n_data = data[['country','genres','language','revenue_category']]"
   ]
  },
  {
   "cell_type": "code",
   "execution_count": 343,
   "metadata": {},
   "outputs": [
    {
     "name": "stderr",
     "output_type": "stream",
     "text": [
      "/opt/conda/lib/python3.7/site-packages/ipykernel_launcher.py:1: SettingWithCopyWarning: \n",
      "A value is trying to be set on a copy of a slice from a DataFrame.\n",
      "Try using .loc[row_indexer,col_indexer] = value instead\n",
      "\n",
      "See the caveats in the documentation: http://pandas.pydata.org/pandas-docs/stable/user_guide/indexing.html#returning-a-view-versus-a-copy\n",
      "  \"\"\"Entry point for launching an IPython kernel.\n",
      "/opt/conda/lib/python3.7/site-packages/ipykernel_launcher.py:2: SettingWithCopyWarning: \n",
      "A value is trying to be set on a copy of a slice from a DataFrame.\n",
      "Try using .loc[row_indexer,col_indexer] = value instead\n",
      "\n",
      "See the caveats in the documentation: http://pandas.pydata.org/pandas-docs/stable/user_guide/indexing.html#returning-a-view-versus-a-copy\n",
      "  \n",
      "/opt/conda/lib/python3.7/site-packages/ipykernel_launcher.py:3: SettingWithCopyWarning: \n",
      "A value is trying to be set on a copy of a slice from a DataFrame.\n",
      "Try using .loc[row_indexer,col_indexer] = value instead\n",
      "\n",
      "See the caveats in the documentation: http://pandas.pydata.org/pandas-docs/stable/user_guide/indexing.html#returning-a-view-versus-a-copy\n",
      "  This is separate from the ipykernel package so we can avoid doing imports until\n"
     ]
    }
   ],
   "source": [
    "n_data['n_country'] = n_data['country'].apply(lambda x: len(str(x).split(',')))\n",
    "n_data['n_genres'] = n_data['genres'].apply(lambda x: len(str(x).split(',')))\n",
    "n_data['n_language'] = n_data['language'].apply(lambda x: len(str(x).split(',')))"
   ]
  },
  {
   "cell_type": "code",
   "execution_count": 344,
   "metadata": {},
   "outputs": [
    {
     "data": {
      "text/html": [
       "<div>\n",
       "<style scoped>\n",
       "    .dataframe tbody tr th:only-of-type {\n",
       "        vertical-align: middle;\n",
       "    }\n",
       "\n",
       "    .dataframe tbody tr th {\n",
       "        vertical-align: top;\n",
       "    }\n",
       "\n",
       "    .dataframe thead th {\n",
       "        text-align: right;\n",
       "    }\n",
       "</style>\n",
       "<table border=\"1\" class=\"dataframe\">\n",
       "  <thead>\n",
       "    <tr style=\"text-align: right;\">\n",
       "      <th></th>\n",
       "      <th>country</th>\n",
       "      <th>genres</th>\n",
       "      <th>language</th>\n",
       "      <th>revenue_category</th>\n",
       "      <th>n_country</th>\n",
       "      <th>n_genres</th>\n",
       "      <th>n_language</th>\n",
       "    </tr>\n",
       "  </thead>\n",
       "  <tbody>\n",
       "    <tr>\n",
       "      <th>0</th>\n",
       "      <td>USA</td>\n",
       "      <td>Animation, Comedy, Family, Fantasy, Musical, M...</td>\n",
       "      <td>English</td>\n",
       "      <td>High</td>\n",
       "      <td>1</td>\n",
       "      <td>6</td>\n",
       "      <td>1</td>\n",
       "    </tr>\n",
       "    <tr>\n",
       "      <th>1</th>\n",
       "      <td>India</td>\n",
       "      <td>Comedy, Drama, Musical, Romance</td>\n",
       "      <td>Hindi, English, French</td>\n",
       "      <td>Low</td>\n",
       "      <td>1</td>\n",
       "      <td>4</td>\n",
       "      <td>3</td>\n",
       "    </tr>\n",
       "  </tbody>\n",
       "</table>\n",
       "</div>"
      ],
      "text/plain": [
       "  country                                             genres  \\\n",
       "0     USA  Animation, Comedy, Family, Fantasy, Musical, M...   \n",
       "1   India                    Comedy, Drama, Musical, Romance   \n",
       "\n",
       "                 language revenue_category  n_country  n_genres  n_language  \n",
       "0                 English             High          1         6           1  \n",
       "1  Hindi, English, French              Low          1         4           3  "
      ]
     },
     "execution_count": 344,
     "metadata": {},
     "output_type": "execute_result"
    }
   ],
   "source": [
    "n_data.head(2)"
   ]
  },
  {
   "cell_type": "code",
   "execution_count": 345,
   "metadata": {},
   "outputs": [
    {
     "name": "stdout",
     "output_type": "stream",
     "text": [
      "Averge between HIGH & LOW Categories for No.of Countries: 1.598639455782313 1.728130360205832\n",
      "Averge between HIGH & LOW Categories for No.of Genres: 3.1241496598639458 2.5042881646655233\n",
      "Averge between HIGH & LOW Categories for No.of Languages: 1.6845238095238095 1.6586620926243567\n"
     ]
    }
   ],
   "source": [
    "print(\"Averge between HIGH & LOW Categories for No.of Countries:\",\n",
    "      n_data[n_data['revenue_category']=='High']['n_country'].mean(),\n",
    "      n_data[n_data['revenue_category']=='Low']['n_country'].mean())\n",
    "print(\"Averge between HIGH & LOW Categories for No.of Genres:\",\n",
    "      n_data[n_data['revenue_category']=='High']['n_genres'].mean(),\n",
    "      n_data[n_data['revenue_category']=='Low']['n_genres'].mean())\n",
    "print(\"Averge between HIGH & LOW Categories for No.of Languages:\",\n",
    "      n_data[n_data['revenue_category']=='High']['n_language'].mean(),\n",
    "      n_data[n_data['revenue_category']=='Low']['n_language'].mean())"
   ]
  },
  {
   "cell_type": "code",
   "execution_count": 346,
   "metadata": {},
   "outputs": [],
   "source": [
    "data['no_country'] = data['country'].apply(lambda x: len(str(x).split(',')))\n",
    "data['no_genres'] = data['genres'].apply(lambda x: len(str(x).split(',')))\n",
    "data['no_language'] = data['language'].apply(lambda x: len(str(x).split(',')))\n",
    "\n",
    "test['no_country'] = test['country'].apply(lambda x: len(str(x).split(',')))\n",
    "test['no_genres'] = test['genres'].apply(lambda x: len(str(x).split(',')))\n",
    "test['no_language'] = test['language'].apply(lambda x: len(str(x).split(',')))"
   ]
  },
  {
   "cell_type": "markdown",
   "metadata": {},
   "source": [
    "### Creating Date Related Features like Month, Week, WeekDay release, Weekend release kind of feature"
   ]
  },
  {
   "cell_type": "code",
   "execution_count": 347,
   "metadata": {},
   "outputs": [],
   "source": [
    "data['release_date'] = pd.to_datetime(data['release_date'])\n",
    "data['dvd_release_date'] = pd.to_datetime(data['dvd_release_date'])\n",
    "\n",
    "test['release_date'] = pd.to_datetime(test['release_date'])\n",
    "test['dvd_release_date'] = pd.to_datetime(test['dvd_release_date'])"
   ]
  },
  {
   "cell_type": "markdown",
   "metadata": {},
   "source": [
    "Relase Day Features"
   ]
  },
  {
   "cell_type": "markdown",
   "metadata": {},
   "source": [
    "Features like Month, Week of the year, Weekday or not play a crucial role in the revenue generation of movies"
   ]
  },
  {
   "cell_type": "code",
   "execution_count": 348,
   "metadata": {},
   "outputs": [],
   "source": [
    "data['release_month'] = data['release_date'].dt.month\n",
    "data['release_week_of_year'] = data['release_date'].dt.week\n",
    "data['is_release_weekday'] = data['release_date'].dt.weekday\n",
    "\n",
    "test['release_month'] = test['release_date'].dt.month\n",
    "test['release_week_of_year'] = test['release_date'].dt.week\n",
    "test['is_release_weekday'] = test['release_date'].dt.weekday"
   ]
  },
  {
   "cell_type": "markdown",
   "metadata": {},
   "source": [
    "Release Day to DVD Release Day"
   ]
  },
  {
   "cell_type": "code",
   "execution_count": 349,
   "metadata": {},
   "outputs": [],
   "source": [
    "data['release_distance'] = (data['dvd_release_date']-data['release_date']).dt.days\n",
    "\n",
    "test['release_distance'] = (test['dvd_release_date']-test['release_date']).dt.days"
   ]
  },
  {
   "cell_type": "code",
   "execution_count": 350,
   "metadata": {},
   "outputs": [
    {
     "data": {
      "text/html": [
       "<div>\n",
       "<style scoped>\n",
       "    .dataframe tbody tr th:only-of-type {\n",
       "        vertical-align: middle;\n",
       "    }\n",
       "\n",
       "    .dataframe tbody tr th {\n",
       "        vertical-align: top;\n",
       "    }\n",
       "\n",
       "    .dataframe thead th {\n",
       "        text-align: right;\n",
       "    }\n",
       "</style>\n",
       "<table border=\"1\" class=\"dataframe\">\n",
       "  <thead>\n",
       "    <tr style=\"text-align: right;\">\n",
       "      <th></th>\n",
       "      <th>title</th>\n",
       "      <th>country</th>\n",
       "      <th>genres</th>\n",
       "      <th>language</th>\n",
       "      <th>writer_count</th>\n",
       "      <th>title_adaption</th>\n",
       "      <th>censor_rating</th>\n",
       "      <th>release_date</th>\n",
       "      <th>runtime</th>\n",
       "      <th>dvd_release_date</th>\n",
       "      <th>users_votes</th>\n",
       "      <th>comments</th>\n",
       "      <th>likes</th>\n",
       "      <th>overall_views</th>\n",
       "      <th>dislikes</th>\n",
       "      <th>ratings_imdb</th>\n",
       "      <th>ratings_tomatoes</th>\n",
       "      <th>ratings_metacritic</th>\n",
       "      <th>special_award</th>\n",
       "      <th>awards_win</th>\n",
       "      <th>awards_nomination</th>\n",
       "      <th>revenue_category</th>\n",
       "      <th>no_country</th>\n",
       "      <th>no_genres</th>\n",
       "      <th>no_language</th>\n",
       "      <th>release_month</th>\n",
       "      <th>release_week_of_year</th>\n",
       "      <th>is_release_weekday</th>\n",
       "      <th>release_distance</th>\n",
       "    </tr>\n",
       "  </thead>\n",
       "  <tbody>\n",
       "    <tr>\n",
       "      <th>18</th>\n",
       "      <td>GasLand</td>\n",
       "      <td>USA</td>\n",
       "      <td>Documentary</td>\n",
       "      <td>English</td>\n",
       "      <td>1.0</td>\n",
       "      <td>False</td>\n",
       "      <td>0</td>\n",
       "      <td>2011-01-17</td>\n",
       "      <td>107</td>\n",
       "      <td>2010-12-14</td>\n",
       "      <td>9,910</td>\n",
       "      <td>1732.0</td>\n",
       "      <td>7340.0</td>\n",
       "      <td>2430754.0</td>\n",
       "      <td>323.0</td>\n",
       "      <td>77.0</td>\n",
       "      <td>97.0</td>\n",
       "      <td>0.0</td>\n",
       "      <td>1</td>\n",
       "      <td>7</td>\n",
       "      <td>6</td>\n",
       "      <td>Low</td>\n",
       "      <td>1</td>\n",
       "      <td>1</td>\n",
       "      <td>1</td>\n",
       "      <td>1.0</td>\n",
       "      <td>3.0</td>\n",
       "      <td>0.0</td>\n",
       "      <td>-34.0</td>\n",
       "    </tr>\n",
       "    <tr>\n",
       "      <th>20</th>\n",
       "      <td>Sweetgrass</td>\n",
       "      <td>France, UK, USA</td>\n",
       "      <td>Documentary, Adventure, Western</td>\n",
       "      <td>English</td>\n",
       "      <td>2.0</td>\n",
       "      <td>False</td>\n",
       "      <td>0</td>\n",
       "      <td>2011-04-22</td>\n",
       "      <td>101</td>\n",
       "      <td>2010-08-03</td>\n",
       "      <td>814</td>\n",
       "      <td>22.0</td>\n",
       "      <td>265.0</td>\n",
       "      <td>140425.0</td>\n",
       "      <td>9.0</td>\n",
       "      <td>69.0</td>\n",
       "      <td>97.0</td>\n",
       "      <td>80.0</td>\n",
       "      <td>0</td>\n",
       "      <td>1</td>\n",
       "      <td>10</td>\n",
       "      <td>Low</td>\n",
       "      <td>3</td>\n",
       "      <td>3</td>\n",
       "      <td>1</td>\n",
       "      <td>4.0</td>\n",
       "      <td>16.0</td>\n",
       "      <td>4.0</td>\n",
       "      <td>-262.0</td>\n",
       "    </tr>\n",
       "  </tbody>\n",
       "</table>\n",
       "</div>"
      ],
      "text/plain": [
       "          title          country                           genres language  \\\n",
       "18     GasLand               USA                      Documentary  English   \n",
       "20  Sweetgrass   France, UK, USA  Documentary, Adventure, Western  English   \n",
       "\n",
       "    writer_count title_adaption  censor_rating release_date  runtime  \\\n",
       "18           1.0          False              0   2011-01-17      107   \n",
       "20           2.0          False              0   2011-04-22      101   \n",
       "\n",
       "   dvd_release_date users_votes  comments   likes  overall_views  dislikes  \\\n",
       "18       2010-12-14       9,910    1732.0  7340.0      2430754.0     323.0   \n",
       "20       2010-08-03         814      22.0   265.0       140425.0       9.0   \n",
       "\n",
       "    ratings_imdb  ratings_tomatoes  ratings_metacritic  special_award  \\\n",
       "18          77.0              97.0                 0.0              1   \n",
       "20          69.0              97.0                80.0              0   \n",
       "\n",
       "    awards_win  awards_nomination revenue_category  no_country  no_genres  \\\n",
       "18           7                  6              Low           1          1   \n",
       "20           1                 10              Low           3          3   \n",
       "\n",
       "    no_language  release_month  release_week_of_year  is_release_weekday  \\\n",
       "18            1            1.0                   3.0                 0.0   \n",
       "20            1            4.0                  16.0                 4.0   \n",
       "\n",
       "    release_distance  \n",
       "18             -34.0  \n",
       "20            -262.0  "
      ]
     },
     "execution_count": 350,
     "metadata": {},
     "output_type": "execute_result"
    }
   ],
   "source": [
    "data[data['release_distance']<0].head(2)"
   ]
  },
  {
   "cell_type": "markdown",
   "metadata": {},
   "source": [
    "I did not understand the case where DVD is released before the Movie release. So I am just dropping the release distance\n",
    "column. Otherwise, for a movie running successfully will have a higher duration of DVD release."
   ]
  },
  {
   "cell_type": "code",
   "execution_count": 351,
   "metadata": {},
   "outputs": [],
   "source": [
    "data.drop('release_distance',inplace=True, axis=1)\n",
    "\n",
    "test.drop('release_distance',inplace=True, axis=1)"
   ]
  },
  {
   "cell_type": "markdown",
   "metadata": {},
   "source": [
    "And did not find much info on DVD release data for missing value imputation also"
   ]
  },
  {
   "cell_type": "code",
   "execution_count": 352,
   "metadata": {},
   "outputs": [],
   "source": [
    "data.drop('dvd_release_date',inplace=True,axis=1)\n",
    "\n",
    "test.drop('dvd_release_date',inplace=True,axis=1)"
   ]
  },
  {
   "cell_type": "markdown",
   "metadata": {},
   "source": [
    "Dropping other NA's"
   ]
  },
  {
   "cell_type": "code",
   "execution_count": 353,
   "metadata": {},
   "outputs": [],
   "source": [
    "data.dropna(inplace=True)\n",
    "\n",
    "test.dropna(inplace=True)"
   ]
  },
  {
   "cell_type": "markdown",
   "metadata": {},
   "source": [
    "### Convert all data to numerics"
   ]
  },
  {
   "cell_type": "code",
   "execution_count": 354,
   "metadata": {},
   "outputs": [
    {
     "data": {
      "text/plain": [
       "title                           object\n",
       "country                         object\n",
       "genres                          object\n",
       "language                        object\n",
       "writer_count                   float64\n",
       "title_adaption                  object\n",
       "censor_rating                    int64\n",
       "release_date            datetime64[ns]\n",
       "runtime                          int64\n",
       "users_votes                     object\n",
       "comments                       float64\n",
       "likes                          float64\n",
       "overall_views                  float64\n",
       "dislikes                       float64\n",
       "ratings_imdb                   float64\n",
       "ratings_tomatoes               float64\n",
       "ratings_metacritic             float64\n",
       "special_award                    int64\n",
       "awards_win                       int64\n",
       "awards_nomination                int64\n",
       "revenue_category                object\n",
       "no_country                       int64\n",
       "no_genres                        int64\n",
       "no_language                      int64\n",
       "release_month                  float64\n",
       "release_week_of_year           float64\n",
       "is_release_weekday             float64\n",
       "dtype: object"
      ]
     },
     "execution_count": 354,
     "metadata": {},
     "output_type": "execute_result"
    }
   ],
   "source": [
    "data.dtypes"
   ]
  },
  {
   "cell_type": "code",
   "execution_count": 355,
   "metadata": {},
   "outputs": [],
   "source": [
    "def title_adaption(x):\n",
    "    if x==True:\n",
    "        return 1\n",
    "    else:\n",
    "        return 0\n",
    "    \n",
    "data['title_adaption'] = data['title_adaption'].apply(lambda x: title_adaption(x)) \n",
    "test['title_adaption'] = test['title_adaption'].apply(lambda x: title_adaption(x)) "
   ]
  },
  {
   "cell_type": "code",
   "execution_count": 356,
   "metadata": {},
   "outputs": [],
   "source": [
    "def user_votes(x):\n",
    "    if type(x)==int:\n",
    "        return float(x)\n",
    "    else:\n",
    "        return float(x.replace(',',''))\n",
    "\n",
    "data['users_votes'] = data['users_votes'].apply(lambda x : user_votes(x))\n",
    "test['users_votes'] = test['users_votes'].apply(lambda x : user_votes(x))\n"
   ]
  },
  {
   "cell_type": "markdown",
   "metadata": {},
   "source": [
    "### Clean target Values as seen ['High', 'Low', 3152, 7108]"
   ]
  },
  {
   "cell_type": "code",
   "execution_count": 357,
   "metadata": {},
   "outputs": [
    {
     "data": {
      "text/plain": [
       "High    1174\n",
       "Low     1162\n",
       "7108      32\n",
       "3152      26\n",
       "Name: revenue_category, dtype: int64"
      ]
     },
     "execution_count": 357,
     "metadata": {},
     "output_type": "execute_result"
    }
   ],
   "source": [
    "data['revenue_category'].value_counts()"
   ]
  },
  {
   "cell_type": "markdown",
   "metadata": {},
   "source": [
    "The positive and negative cases are well balanced. Need to drop those rows with wrong labels"
   ]
  },
  {
   "cell_type": "code",
   "execution_count": 358,
   "metadata": {},
   "outputs": [],
   "source": [
    "data = data[data['revenue_category'].isin(['High','Low'])]"
   ]
  },
  {
   "cell_type": "markdown",
   "metadata": {
    "colab_type": "text",
    "id": "ymsdDaIPIKSX"
   },
   "source": [
    "# Visualization, Modeling, Machine Learning\n",
    "\n",
    "#Can you build a model that can help them predict what titles would be suitable for licensing and identify how different features influence their decision? Please explain your findings effectively to technical and non-technical audiences using comments and visualizations, if appropriate.\n",
    "- **Build an optimized model that effectively solves the business problem.**\n",
    "- **The model would be evaluated on the basis of accuracy.**\n",
    "- **Read the test.csv file and prepare features for testing.**\n"
   ]
  },
  {
   "cell_type": "markdown",
   "metadata": {
    "colab_type": "text",
    "id": "MK_rdXETIKS4"
   },
   "source": [
    "\n",
    "\n",
    "**The management wants to know what are the most important features for your model.  Can you tell them?**\n",
    "\n",
    "> #### Task:\n",
    "- **Visualize the top 20 features and their feature importance.**\n"
   ]
  },
  {
   "cell_type": "markdown",
   "metadata": {
    "colab": {},
    "colab_type": "code",
    "id": "HHFM3XPMIKS6",
    "outputId": "364f9e87-0196-4c2e-f57b-8a4988d295cf"
   },
   "source": [
    "#### Split Inputs & Target Variables"
   ]
  },
  {
   "cell_type": "code",
   "execution_count": 359,
   "metadata": {},
   "outputs": [],
   "source": [
    "X = data.iloc[:,~data.columns.isin(['title','revenue_category','country','genres','language','release_date','dvd_release_date'])]\n",
    "Y = data.iloc[:,data.columns.isin(['revenue_category'])]"
   ]
  },
  {
   "cell_type": "code",
   "execution_count": 371,
   "metadata": {},
   "outputs": [
    {
     "data": {
      "text/plain": [
       "High    1174\n",
       "Low     1162\n",
       "Name: revenue_category, dtype: int64"
      ]
     },
     "execution_count": 371,
     "metadata": {},
     "output_type": "execute_result"
    }
   ],
   "source": [
    "Y['revenue_category'].value_counts()"
   ]
  },
  {
   "cell_type": "code",
   "execution_count": null,
   "metadata": {},
   "outputs": [],
   "source": []
  },
  {
   "cell_type": "code",
   "execution_count": 361,
   "metadata": {},
   "outputs": [
    {
     "data": {
      "text/plain": [
       "DecisionTreeClassifier(class_weight=None, criterion='gini', max_depth=None,\n",
       "                       max_features=None, max_leaf_nodes=None,\n",
       "                       min_impurity_decrease=0.0, min_impurity_split=None,\n",
       "                       min_samples_leaf=1, min_samples_split=2,\n",
       "                       min_weight_fraction_leaf=0.0, presort=False,\n",
       "                       random_state=None, splitter='best')"
      ]
     },
     "execution_count": 361,
     "metadata": {},
     "output_type": "execute_result"
    }
   ],
   "source": [
    "from sklearn.tree import DecisionTreeClassifier\n",
    "model = DecisionTreeClassifier()\n",
    "model.fit(X, Y)"
   ]
  },
  {
   "cell_type": "markdown",
   "metadata": {},
   "source": [
    "### Feature Importance"
   ]
  },
  {
   "cell_type": "code",
   "execution_count": 362,
   "metadata": {},
   "outputs": [
    {
     "data": {
      "image/png": "[encoded data removed]",
      "text/plain": [
       "<Figure size 576x720 with 1 Axes>"
      ]
     },
     "metadata": {
      "needs_background": "light"
     },
     "output_type": "display_data"
    }
   ],
   "source": [
    "\n",
    "features = X.columns\n",
    "importances = model.feature_importances_\n",
    "indices = np.argsort(importances)[0:20]\n",
    "\n",
    "\n",
    "plt.figure(figsize=(8, 10))\n",
    "plt.title('Feature Importances')\n",
    "plt.barh(range(len(indices)), importances[indices], color='b', align='center')\n",
    "plt.yticks(range(len(indices)), [features[i] for i in indices])\n",
    "plt.xlabel('Relative Importance')\n",
    "plt.show()"
   ]
  },
  {
   "cell_type": "markdown",
   "metadata": {},
   "source": [
    "From the above plot we can clearly see that the obvious fetaures like ratings, awards, coverage playing the \n",
    "high importance of the movie revenue generation. Feature engineering has an impact, we can obseerve \n",
    "release_week_of_year is the top 4th highly influencing feature and no_genres,no_country,no_languages is also having a significant impact"
   ]
  },
  {
   "cell_type": "markdown",
   "metadata": {},
   "source": [
    "### Building a Ensemblem Classifier"
   ]
  },
  {
   "cell_type": "code",
   "execution_count": 363,
   "metadata": {},
   "outputs": [],
   "source": [
    "from sklearn.model_selection import cross_val_score\n",
    "from sklearn.model_selection import RepeatedStratifiedKFold\n",
    "from lightgbm import LGBMClassifier"
   ]
  },
  {
   "cell_type": "code",
   "execution_count": 364,
   "metadata": {},
   "outputs": [],
   "source": [
    "model = LGBMClassifier()"
   ]
  },
  {
   "cell_type": "code",
   "execution_count": 374,
   "metadata": {},
   "outputs": [
    {
     "name": "stdout",
     "output_type": "stream",
     "text": [
      "Cross Validated Accuracy: 0.871 (0.020)\n"
     ]
    }
   ],
   "source": [
    "cv = RepeatedStratifiedKFold(n_splits=10, n_repeats=3, random_state=1)\n",
    "n_scores = cross_val_score(model, X, Y, scoring='accuracy', cv=cv, n_jobs=-1)\n",
    "# report performance\n",
    "print('Cross Validated Accuracy: %.3f (%.3f)' % (np.mean(n_scores), np.std(n_scores)))"
   ]
  },
  {
   "cell_type": "code",
   "execution_count": 366,
   "metadata": {},
   "outputs": [
    {
     "name": "stderr",
     "output_type": "stream",
     "text": [
      "/opt/conda/lib/python3.7/site-packages/sklearn/preprocessing/label.py:219: DataConversionWarning: A column-vector y was passed when a 1d array was expected. Please change the shape of y to (n_samples, ), for example using ravel().\n",
      "  y = column_or_1d(y, warn=True)\n",
      "/opt/conda/lib/python3.7/site-packages/sklearn/preprocessing/label.py:252: DataConversionWarning: A column-vector y was passed when a 1d array was expected. Please change the shape of y to (n_samples, ), for example using ravel().\n",
      "  y = column_or_1d(y, warn=True)\n"
     ]
    },
    {
     "data": {
      "text/plain": [
       "LGBMClassifier(boosting_type='gbdt', class_weight=None, colsample_bytree=1.0,\n",
       "               importance_type='split', learning_rate=0.1, max_depth=-1,\n",
       "               min_child_samples=20, min_child_weight=0.001, min_split_gain=0.0,\n",
       "               n_estimators=100, n_jobs=-1, num_leaves=31, objective=None,\n",
       "               random_state=None, reg_alpha=0.0, reg_lambda=0.0, silent=True,\n",
       "               subsample=1.0, subsample_for_bin=200000, subsample_freq=0)"
      ]
     },
     "execution_count": 366,
     "metadata": {},
     "output_type": "execute_result"
    }
   ],
   "source": [
    "model.fit(X, Y)"
   ]
  },
  {
   "cell_type": "markdown",
   "metadata": {
    "colab_type": "text",
    "id": "UFogmgYZIKTE"
   },
   "source": [
    "> #### Task:\n",
    "- **Submit the predictions on the test dataset using your optimized model** <br/>\n",
    "    For each record in the test set (`test.csv`), you must predict the value of the `revenue_category` variable. You should submit a CSV file with a header row and one row per test entry. The file (submissions.csv) should have exactly 2 columns:\n",
    "\n",
    "The file (`submissions.csv`) should have exactly 2 columns:\n",
    "   - **title**\n",
    "   - **revenue_category**"
   ]
  },
  {
   "cell_type": "code",
   "execution_count": 367,
   "metadata": {
    "colab": {},
    "colab_type": "code",
    "id": "7xgNg25MIKTG"
   },
   "outputs": [],
   "source": [
    "submission_df = test.iloc[:,test.columns.isin(['title'])]\n",
    "test = test.iloc[:,~test.columns.isin(['title','country','genres','language','release_date','dvd_release_date'])]"
   ]
  },
  {
   "cell_type": "code",
   "execution_count": 368,
   "metadata": {},
   "outputs": [],
   "source": [
    "submission_df['revenue_category'] =  model.predict(test)"
   ]
  },
  {
   "cell_type": "code",
   "execution_count": 385,
   "metadata": {
    "colab": {},
    "colab_type": "code",
    "id": "OaxN7BjwIKTL"
   },
   "outputs": [
    {
     "data": {
      "text/html": [
       "<div>\n",
       "<style scoped>\n",
       "    .dataframe tbody tr th:only-of-type {\n",
       "        vertical-align: middle;\n",
       "    }\n",
       "\n",
       "    .dataframe tbody tr th {\n",
       "        vertical-align: top;\n",
       "    }\n",
       "\n",
       "    .dataframe thead th {\n",
       "        text-align: right;\n",
       "    }\n",
       "</style>\n",
       "<table border=\"1\" class=\"dataframe\">\n",
       "  <thead>\n",
       "    <tr style=\"text-align: right;\">\n",
       "      <th></th>\n",
       "      <th>title</th>\n",
       "      <th>revenue_category</th>\n",
       "    </tr>\n",
       "  </thead>\n",
       "  <tbody>\n",
       "    <tr>\n",
       "      <th>0</th>\n",
       "      <td>Delhi-6</td>\n",
       "      <td>Low</td>\n",
       "    </tr>\n",
       "    <tr>\n",
       "      <th>1</th>\n",
       "      <td>Before I Disappear</td>\n",
       "      <td>Low</td>\n",
       "    </tr>\n",
       "    <tr>\n",
       "      <th>2</th>\n",
       "      <td>Good Year, A</td>\n",
       "      <td>High</td>\n",
       "    </tr>\n",
       "    <tr>\n",
       "      <th>3</th>\n",
       "      <td>Brüno</td>\n",
       "      <td>High</td>\n",
       "    </tr>\n",
       "    <tr>\n",
       "      <th>4</th>\n",
       "      <td>How to Lose a Guy in 10 Days</td>\n",
       "      <td>High</td>\n",
       "    </tr>\n",
       "  </tbody>\n",
       "</table>\n",
       "</div>"
      ],
      "text/plain": [
       "                           title revenue_category\n",
       "0                       Delhi-6               Low\n",
       "1            Before I Disappear               Low\n",
       "2                  Good Year, A              High\n",
       "3                         Brüno              High\n",
       "4  How to Lose a Guy in 10 Days              High"
      ]
     },
     "execution_count": 385,
     "metadata": {},
     "output_type": "execute_result"
    }
   ],
   "source": [
    "submission_df.head()"
   ]
  },
  {
   "cell_type": "code",
   "execution_count": 379,
   "metadata": {},
   "outputs": [
    {
     "data": {
      "text/plain": [
       "(598, 21)"
      ]
     },
     "execution_count": 379,
     "metadata": {},
     "output_type": "execute_result"
    }
   ],
   "source": [
    "test.shape"
   ]
  },
  {
   "cell_type": "code",
   "execution_count": null,
   "metadata": {},
   "outputs": [],
   "source": [
    "Actual test set size is 600 but I did not able to logic for the right way to impute missing value for \n",
    "release date so I dropped it for time being"
   ]
  },
  {
   "cell_type": "code",
   "execution_count": 384,
   "metadata": {
    "colab": {},
    "colab_type": "code",
    "id": "nBRVPrYbIKTQ"
   },
   "outputs": [],
   "source": [
    "#Submission\n",
    "submission_df.to_csv('submissions.csv',index=False)"
   ]
  },
  {
   "cell_type": "markdown",
   "metadata": {
    "colab_type": "text",
    "id": "H_pB8zTcIKTW"
   },
   "source": [
    "---"
   ]
  }
 ],
 "metadata": {
  "colab": {
   "collapsed_sections": [],
   "name": "Questions_with_solution.ipynb",
   "provenance": []
  },
  "kernelspec": {
   "display_name": "Python 3",
   "language": "python",
   "name": "python3"
  },
  "language_info": {
   "codemirror_mode": {
    "name": "ipython",
    "version": 3
   },
   "file_extension": ".py",
   "mimetype": "text/x-python",
   "name": "python",
   "nbconvert_exporter": "python",
   "pygments_lexer": "ipython3",
   "version": "3.9.5"
  },
  "toc": {
   "base_numbering": 1,
   "nav_menu": {},
   "number_sections": true,
   "sideBar": true,
   "skip_h1_title": false,
   "title_cell": "Table of Contents",
   "title_sidebar": "Contents",
   "toc_cell": false,
   "toc_position": {},
   "toc_section_display": true,
   "toc_window_display": false
  }
 },
 "nbformat": 4,
 "nbformat_minor": 4
}
